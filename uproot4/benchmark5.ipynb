{
 "cells": [
  {
   "cell_type": "code",
   "execution_count": 1,
   "id": "hungry-roulette",
   "metadata": {},
   "outputs": [],
   "source": [
    "import numpy as np\n",
    "import matplotlib.pyplot as plt\n",
    "import awkward as ak\n",
    "import vector\n",
    "import uproot"
   ]
  },
  {
   "cell_type": "code",
   "execution_count": 2,
   "id": "ced64a13",
   "metadata": {},
   "outputs": [],
   "source": [
    "tree = uproot.open('../data/Run2012B_SingleMu_1000.root')['Events']\n",
    "muon_charge = tree['Muon_charge'].array()\n",
    "muon_p4 = vector.Array({\"pt\": tree['Muon_pt'].array(),\n",
    "                        \"eta\": tree['Muon_eta'].array(),\n",
    "                        \"phi\": tree['Muon_phi'].array(),\n",
    "                        \"mass\": tree['Muon_mass'].array()})\n",
    "muon_pair_indices = ak.unzip(ak.argcombinations(muon_charge, 2))\n",
    "dimuon_indices_mask = muon_charge[muon_pair_indices[0]] != muon_charge[muon_pair_indices[1]]\n",
    "dimuon_mass = (muon_p4[muon_pair_indices[0][dimuon_indices_mask]] + muon_p4[muon_pair_indices[1][dimuon_indices_mask]]).mass\n",
    "event_mask = ak.sum((60 < dimuon_mass) & (dimuon_mass < 120), axis=1) > 0\n",
    "met_pt = tree['MET_pt'].array()\n",
    "result = met_pt[event_mask]"
   ]
  },
  {
   "cell_type": "code",
   "execution_count": 3,
   "id": "portuguese-tension",
   "metadata": {},
   "outputs": [
    {
     "data": {
      "image/png": "[encoded data removed]",
      "text/plain": [
       "<Figure size 432x288 with 1 Axes>"
      ]
     },
     "metadata": {
      "needs_background": "light"
     },
     "output_type": "display_data"
    }
   ],
   "source": [
    "n, bins, _ = plt.hist(result, 100, (0, 2000))\n",
    "plt.xlabel(r'$E_\\mathrm{T}^\\mathrm{miss}$ [GeV]')\n",
    "plt.ylabel('Events')\n",
    "plt.show()"
   ]
  },
  {
   "cell_type": "code",
   "execution_count": 4,
   "id": "earned-istanbul",
   "metadata": {},
   "outputs": [
    {
     "data": {
      "text/plain": [
       "array([[0.00e+00, 2.00e+01, 3.90e+01],\n",
       "       [2.00e+01, 4.00e+01, 1.50e+01],\n",
       "       [4.00e+01, 6.00e+01, 2.00e+00],\n",
       "       [6.00e+01, 8.00e+01, 1.00e+00],\n",
       "       [8.00e+01, 1.00e+02, 0.00e+00],\n",
       "       [1.00e+02, 1.20e+02, 0.00e+00],\n",
       "       [1.20e+02, 1.40e+02, 0.00e+00],\n",
       "       [1.40e+02, 1.60e+02, 0.00e+00],\n",
       "       [1.60e+02, 1.80e+02, 0.00e+00],\n",
       "       [1.80e+02, 2.00e+02, 0.00e+00],\n",
       "       [2.00e+02, 2.20e+02, 0.00e+00],\n",
       "       [2.20e+02, 2.40e+02, 0.00e+00],\n",
       "       [2.40e+02, 2.60e+02, 0.00e+00],\n",
       "       [2.60e+02, 2.80e+02, 0.00e+00],\n",
       "       [2.80e+02, 3.00e+02, 0.00e+00],\n",
       "       [3.00e+02, 3.20e+02, 0.00e+00],\n",
       "       [3.20e+02, 3.40e+02, 0.00e+00],\n",
       "       [3.40e+02, 3.60e+02, 0.00e+00],\n",
       "       [3.60e+02, 3.80e+02, 0.00e+00],\n",
       "       [3.80e+02, 4.00e+02, 0.00e+00],\n",
       "       [4.00e+02, 4.20e+02, 0.00e+00],\n",
       "       [4.20e+02, 4.40e+02, 0.00e+00],\n",
       "       [4.40e+02, 4.60e+02, 0.00e+00],\n",
       "       [4.60e+02, 4.80e+02, 0.00e+00],\n",
       "       [4.80e+02, 5.00e+02, 0.00e+00],\n",
       "       [5.00e+02, 5.20e+02, 0.00e+00],\n",
       "       [5.20e+02, 5.40e+02, 0.00e+00],\n",
       "       [5.40e+02, 5.60e+02, 0.00e+00],\n",
       "       [5.60e+02, 5.80e+02, 0.00e+00],\n",
       "       [5.80e+02, 6.00e+02, 0.00e+00],\n",
       "       [6.00e+02, 6.20e+02, 0.00e+00],\n",
       "       [6.20e+02, 6.40e+02, 0.00e+00],\n",
       "       [6.40e+02, 6.60e+02, 0.00e+00],\n",
       "       [6.60e+02, 6.80e+02, 0.00e+00],\n",
       "       [6.80e+02, 7.00e+02, 0.00e+00],\n",
       "       [7.00e+02, 7.20e+02, 0.00e+00],\n",
       "       [7.20e+02, 7.40e+02, 0.00e+00],\n",
       "       [7.40e+02, 7.60e+02, 0.00e+00],\n",
       "       [7.60e+02, 7.80e+02, 0.00e+00],\n",
       "       [7.80e+02, 8.00e+02, 0.00e+00],\n",
       "       [8.00e+02, 8.20e+02, 0.00e+00],\n",
       "       [8.20e+02, 8.40e+02, 0.00e+00],\n",
       "       [8.40e+02, 8.60e+02, 0.00e+00],\n",
       "       [8.60e+02, 8.80e+02, 0.00e+00],\n",
       "       [8.80e+02, 9.00e+02, 0.00e+00],\n",
       "       [9.00e+02, 9.20e+02, 0.00e+00],\n",
       "       [9.20e+02, 9.40e+02, 0.00e+00],\n",
       "       [9.40e+02, 9.60e+02, 0.00e+00],\n",
       "       [9.60e+02, 9.80e+02, 0.00e+00],\n",
       "       [9.80e+02, 1.00e+03, 0.00e+00],\n",
       "       [1.00e+03, 1.02e+03, 0.00e+00],\n",
       "       [1.02e+03, 1.04e+03, 0.00e+00],\n",
       "       [1.04e+03, 1.06e+03, 0.00e+00],\n",
       "       [1.06e+03, 1.08e+03, 0.00e+00],\n",
       "       [1.08e+03, 1.10e+03, 0.00e+00],\n",
       "       [1.10e+03, 1.12e+03, 0.00e+00],\n",
       "       [1.12e+03, 1.14e+03, 0.00e+00],\n",
       "       [1.14e+03, 1.16e+03, 0.00e+00],\n",
       "       [1.16e+03, 1.18e+03, 0.00e+00],\n",
       "       [1.18e+03, 1.20e+03, 0.00e+00],\n",
       "       [1.20e+03, 1.22e+03, 0.00e+00],\n",
       "       [1.22e+03, 1.24e+03, 0.00e+00],\n",
       "       [1.24e+03, 1.26e+03, 0.00e+00],\n",
       "       [1.26e+03, 1.28e+03, 0.00e+00],\n",
       "       [1.28e+03, 1.30e+03, 0.00e+00],\n",
       "       [1.30e+03, 1.32e+03, 0.00e+00],\n",
       "       [1.32e+03, 1.34e+03, 0.00e+00],\n",
       "       [1.34e+03, 1.36e+03, 0.00e+00],\n",
       "       [1.36e+03, 1.38e+03, 0.00e+00],\n",
       "       [1.38e+03, 1.40e+03, 0.00e+00],\n",
       "       [1.40e+03, 1.42e+03, 0.00e+00],\n",
       "       [1.42e+03, 1.44e+03, 0.00e+00],\n",
       "       [1.44e+03, 1.46e+03, 0.00e+00],\n",
       "       [1.46e+03, 1.48e+03, 0.00e+00],\n",
       "       [1.48e+03, 1.50e+03, 0.00e+00],\n",
       "       [1.50e+03, 1.52e+03, 0.00e+00],\n",
       "       [1.52e+03, 1.54e+03, 0.00e+00],\n",
       "       [1.54e+03, 1.56e+03, 0.00e+00],\n",
       "       [1.56e+03, 1.58e+03, 0.00e+00],\n",
       "       [1.58e+03, 1.60e+03, 0.00e+00],\n",
       "       [1.60e+03, 1.62e+03, 0.00e+00],\n",
       "       [1.62e+03, 1.64e+03, 0.00e+00],\n",
       "       [1.64e+03, 1.66e+03, 0.00e+00],\n",
       "       [1.66e+03, 1.68e+03, 0.00e+00],\n",
       "       [1.68e+03, 1.70e+03, 0.00e+00],\n",
       "       [1.70e+03, 1.72e+03, 0.00e+00],\n",
       "       [1.72e+03, 1.74e+03, 0.00e+00],\n",
       "       [1.74e+03, 1.76e+03, 0.00e+00],\n",
       "       [1.76e+03, 1.78e+03, 0.00e+00],\n",
       "       [1.78e+03, 1.80e+03, 0.00e+00],\n",
       "       [1.80e+03, 1.82e+03, 0.00e+00],\n",
       "       [1.82e+03, 1.84e+03, 0.00e+00],\n",
       "       [1.84e+03, 1.86e+03, 0.00e+00],\n",
       "       [1.86e+03, 1.88e+03, 0.00e+00],\n",
       "       [1.88e+03, 1.90e+03, 0.00e+00],\n",
       "       [1.90e+03, 1.92e+03, 0.00e+00],\n",
       "       [1.92e+03, 1.94e+03, 0.00e+00],\n",
       "       [1.94e+03, 1.96e+03, 0.00e+00],\n",
       "       [1.96e+03, 1.98e+03, 0.00e+00],\n",
       "       [1.98e+03, 2.00e+03, 0.00e+00]])"
      ]
     },
     "execution_count": 4,
     "metadata": {},
     "output_type": "execute_result"
    }
   ],
   "source": [
    "np.stack((bins[:-1], bins[1:], n), axis=1)"
   ]
  }
 ],
 "metadata": {
  "kernelspec": {
   "display_name": "Python 3",
   "language": "python",
   "name": "python3"
  },
  "language_info": {
   "codemirror_mode": {
    "name": "ipython",
    "version": 3
   },
   "file_extension": ".py",
   "mimetype": "text/x-python",
   "name": "python",
   "nbconvert_exporter": "python",
   "pygments_lexer": "ipython3",
   "version": "3.9.1"
  }
 },
 "nbformat": 4,
 "nbformat_minor": 5
}
