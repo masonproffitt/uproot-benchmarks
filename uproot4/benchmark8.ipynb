{
 "cells": [
  {
   "cell_type": "code",
   "execution_count": 1,
   "id": "hungry-roulette",
   "metadata": {},
   "outputs": [],
   "source": [
    "import numpy as np\n",
    "import matplotlib.pyplot as plt\n",
    "import awkward as ak\n",
    "import vector\n",
    "import uproot"
   ]
  },
  {
   "cell_type": "code",
   "execution_count": 2,
   "id": "c29a956a",
   "metadata": {},
   "outputs": [],
   "source": [
    "tree = uproot.open('../data/Run2012B_SingleMu_1000.root')['Events']\n",
    "electron_pdg = 11 * -tree['Electron_charge'].array()\n",
    "electron_p4 = vector.Array(ak.zip({\"pt\": tree['Electron_pt'].array(),\n",
    "                                   \"eta\": tree['Electron_eta'].array(),\n",
    "                                   \"phi\": tree['Electron_phi'].array(),\n",
    "                                   \"mass\": tree['Electron_mass'].array()}))\n",
    "muon_pdg = 13 * -tree['Muon_charge'].array()\n",
    "muon_p4 = vector.Array(ak.zip({\"pt\": tree['Muon_pt'].array(),\n",
    "                               \"eta\": tree['Muon_eta'].array(),\n",
    "                               \"phi\": tree['Muon_phi'].array(),\n",
    "                               \"mass\": tree['Muon_mass'].array()}))\n",
    "lepton_pdg = ak.concatenate((electron_pdg, muon_pdg), axis=1)\n",
    "lepton_p4 = ak.concatenate((electron_p4, muon_p4), axis=1)\n",
    "lepton_indices = ak.unzip(ak.argcombinations(lepton_pdg, 2))\n",
    "dilepton_indices_mask = lepton_pdg[lepton_indices[0]] == -lepton_pdg[lepton_indices[1]]\n",
    "dilepton_mass = (lepton_p4[lepton_indices[0][dilepton_indices_mask]] + lepton_p4[lepton_indices[1][dilepton_indices_mask]]).mass\n",
    "best_dilepton_index = ak.argmin(abs(dilepton_mass - 91.2), axis=1, keepdims=True)\n",
    "event_mask = (ak.num(lepton_pdg) >= 3) & (ak.num(lepton_indices[0][dilepton_indices_mask]) > 0)\n",
    "leading_lepton_indices = ak.argsort(lepton_p4[event_mask].pt, ascending=False)\n",
    "leading_lepton_indices_mask = (leading_lepton_indices != ak.flatten(lepton_indices[0][dilepton_indices_mask][best_dilepton_index][event_mask])) & (leading_lepton_indices != ak.flatten(lepton_indices[1][dilepton_indices_mask][best_dilepton_index][event_mask]))\n",
    "leading_other_lepton_index = leading_lepton_indices[leading_lepton_indices_mask][:, :1]\n",
    "leading_other_lepton_p4 = ak.flatten(lepton_p4[event_mask][leading_other_lepton_index])\n",
    "met = vector.Array(ak.zip({\"pt\": tree['MET_pt'].array(),\n",
    "                           \"phi\": tree['MET_phi'].array()}))[event_mask]\n",
    "result = np.sqrt(2 * leading_other_lepton_p4.pt * met.pt * (1 - np.cos(leading_other_lepton_p4.deltaphi(met))))"
   ]
  },
  {
   "cell_type": "code",
   "execution_count": 3,
   "id": "portuguese-tension",
   "metadata": {},
   "outputs": [
    {
     "data": {
      "image/png": "[encoded data removed]",
      "text/plain": [
       "<Figure size 432x288 with 1 Axes>"
      ]
     },
     "metadata": {
      "needs_background": "light"
     },
     "output_type": "display_data"
    }
   ],
   "source": [
    "n, bins, _ = plt.hist(result, 100, (15, 250))\n",
    "plt.xlabel(r'$m_\\mathrm{T}$ [GeV]')\n",
    "plt.ylabel('Events')\n",
    "plt.show()"
   ]
  },
  {
   "cell_type": "code",
   "execution_count": 4,
   "id": "unlimited-carpet",
   "metadata": {},
   "outputs": [
    {
     "data": {
      "text/plain": [
       "array([[ 15.        ,  17.35000038,   2.        ],\n",
       "       [ 17.35000038,  19.70000076,   2.        ],\n",
       "       [ 19.70000076,  22.04999924,   3.        ],\n",
       "       [ 22.04999924,  24.39999962,   4.        ],\n",
       "       [ 24.39999962,  26.75      ,   2.        ],\n",
       "       [ 26.75      ,  29.10000038,   2.        ],\n",
       "       [ 29.10000038,  31.45000076,   2.        ],\n",
       "       [ 31.45000076,  33.79999924,   1.        ],\n",
       "       [ 33.79999924,  36.15000153,   5.        ],\n",
       "       [ 36.15000153,  38.5       ,   2.        ],\n",
       "       [ 38.5       ,  40.84999847,   3.        ],\n",
       "       [ 40.84999847,  43.20000076,   1.        ],\n",
       "       [ 43.20000076,  45.54999924,   1.        ],\n",
       "       [ 45.54999924,  47.90000153,   1.        ],\n",
       "       [ 47.90000153,  50.25      ,   3.        ],\n",
       "       [ 50.25      ,  52.59999847,   2.        ],\n",
       "       [ 52.59999847,  54.95000076,   1.        ],\n",
       "       [ 54.95000076,  57.29999924,   0.        ],\n",
       "       [ 57.29999924,  59.65000153,   0.        ],\n",
       "       [ 59.65000153,  62.        ,   1.        ],\n",
       "       [ 62.        ,  64.34999847,   0.        ],\n",
       "       [ 64.34999847,  66.69999695,   0.        ],\n",
       "       [ 66.69999695,  69.05000305,   0.        ],\n",
       "       [ 69.05000305,  71.40000153,   0.        ],\n",
       "       [ 71.40000153,  73.75      ,   0.        ],\n",
       "       [ 73.75      ,  76.09999847,   0.        ],\n",
       "       [ 76.09999847,  78.44999695,   0.        ],\n",
       "       [ 78.44999695,  80.80000305,   0.        ],\n",
       "       [ 80.80000305,  83.15000153,   0.        ],\n",
       "       [ 83.15000153,  85.5       ,   0.        ],\n",
       "       [ 85.5       ,  87.84999847,   0.        ],\n",
       "       [ 87.84999847,  90.19999695,   0.        ],\n",
       "       [ 90.19999695,  92.55000305,   1.        ],\n",
       "       [ 92.55000305,  94.90000153,   1.        ],\n",
       "       [ 94.90000153,  97.25      ,   1.        ],\n",
       "       [ 97.25      ,  99.59999847,   0.        ],\n",
       "       [ 99.59999847, 101.94999695,   1.        ],\n",
       "       [101.94999695, 104.30000305,   0.        ],\n",
       "       [104.30000305, 106.65000153,   0.        ],\n",
       "       [106.65000153, 109.        ,   0.        ],\n",
       "       [109.        , 111.34999847,   0.        ],\n",
       "       [111.34999847, 113.69999695,   0.        ],\n",
       "       [113.69999695, 116.05000305,   0.        ],\n",
       "       [116.05000305, 118.40000153,   0.        ],\n",
       "       [118.40000153, 120.75      ,   0.        ],\n",
       "       [120.75      , 123.09999847,   0.        ],\n",
       "       [123.09999847, 125.44999695,   0.        ],\n",
       "       [125.44999695, 127.80000305,   0.        ],\n",
       "       [127.80000305, 130.1499939 ,   0.        ],\n",
       "       [130.1499939 , 132.5       ,   0.        ],\n",
       "       [132.5       , 134.8500061 ,   0.        ],\n",
       "       [134.8500061 , 137.19999695,   0.        ],\n",
       "       [137.19999695, 139.55000305,   1.        ],\n",
       "       [139.55000305, 141.8999939 ,   0.        ],\n",
       "       [141.8999939 , 144.25      ,   0.        ],\n",
       "       [144.25      , 146.6000061 ,   0.        ],\n",
       "       [146.6000061 , 148.94999695,   0.        ],\n",
       "       [148.94999695, 151.30000305,   0.        ],\n",
       "       [151.30000305, 153.6499939 ,   0.        ],\n",
       "       [153.6499939 , 156.        ,   0.        ],\n",
       "       [156.        , 158.3500061 ,   0.        ],\n",
       "       [158.3500061 , 160.69999695,   0.        ],\n",
       "       [160.69999695, 163.05000305,   0.        ],\n",
       "       [163.05000305, 165.3999939 ,   0.        ],\n",
       "       [165.3999939 , 167.75      ,   0.        ],\n",
       "       [167.75      , 170.1000061 ,   0.        ],\n",
       "       [170.1000061 , 172.44999695,   0.        ],\n",
       "       [172.44999695, 174.80000305,   0.        ],\n",
       "       [174.80000305, 177.1499939 ,   0.        ],\n",
       "       [177.1499939 , 179.5       ,   0.        ],\n",
       "       [179.5       , 181.8500061 ,   0.        ],\n",
       "       [181.8500061 , 184.19999695,   0.        ],\n",
       "       [184.19999695, 186.55000305,   0.        ],\n",
       "       [186.55000305, 188.8999939 ,   0.        ],\n",
       "       [188.8999939 , 191.25      ,   0.        ],\n",
       "       [191.25      , 193.6000061 ,   0.        ],\n",
       "       [193.6000061 , 195.94999695,   0.        ],\n",
       "       [195.94999695, 198.30000305,   0.        ],\n",
       "       [198.30000305, 200.6499939 ,   0.        ],\n",
       "       [200.6499939 , 203.        ,   0.        ],\n",
       "       [203.        , 205.3500061 ,   0.        ],\n",
       "       [205.3500061 , 207.69999695,   0.        ],\n",
       "       [207.69999695, 210.05000305,   0.        ],\n",
       "       [210.05000305, 212.3999939 ,   0.        ],\n",
       "       [212.3999939 , 214.75      ,   0.        ],\n",
       "       [214.75      , 217.1000061 ,   0.        ],\n",
       "       [217.1000061 , 219.44999695,   0.        ],\n",
       "       [219.44999695, 221.80000305,   0.        ],\n",
       "       [221.80000305, 224.1499939 ,   0.        ],\n",
       "       [224.1499939 , 226.5       ,   0.        ],\n",
       "       [226.5       , 228.8500061 ,   0.        ],\n",
       "       [228.8500061 , 231.19999695,   0.        ],\n",
       "       [231.19999695, 233.55000305,   0.        ],\n",
       "       [233.55000305, 235.8999939 ,   0.        ],\n",
       "       [235.8999939 , 238.25      ,   0.        ],\n",
       "       [238.25      , 240.6000061 ,   0.        ],\n",
       "       [240.6000061 , 242.94999695,   0.        ],\n",
       "       [242.94999695, 245.30000305,   0.        ],\n",
       "       [245.30000305, 247.6499939 ,   0.        ],\n",
       "       [247.6499939 , 250.        ,   0.        ]])"
      ]
     },
     "execution_count": 4,
     "metadata": {},
     "output_type": "execute_result"
    }
   ],
   "source": [
    "np.stack((bins[:-1], bins[1:], n), axis=1)"
   ]
  }
 ],
 "metadata": {
  "kernelspec": {
   "display_name": "Python 3",
   "language": "python",
   "name": "python3"
  },
  "language_info": {
   "codemirror_mode": {
    "name": "ipython",
    "version": 3
   },
   "file_extension": ".py",
   "mimetype": "text/x-python",
   "name": "python",
   "nbconvert_exporter": "python",
   "pygments_lexer": "ipython3",
   "version": "3.9.1"
  }
 },
 "nbformat": 4,
 "nbformat_minor": 5
}
