{
 "cells": [
  {
   "cell_type": "code",
   "execution_count": 1,
   "id": "hungry-roulette",
   "metadata": {},
   "outputs": [],
   "source": [
    "import numpy as np\n",
    "import matplotlib.pyplot as plt\n",
    "import awkward as ak\n",
    "import vector\n",
    "import uproot"
   ]
  },
  {
   "cell_type": "code",
   "execution_count": 2,
   "id": "e72a2eee",
   "metadata": {},
   "outputs": [],
   "source": [
    "tree = uproot.open('../data/Run2012B_SingleMu_1000.root')['Events']\n",
    "jet_p4 = vector.Array(ak.zip({\"pt\": tree['Jet_pt'].array(),\n",
    "                              \"eta\": tree['Jet_eta'].array(),\n",
    "                              \"phi\": tree['Jet_phi'].array(),\n",
    "                              \"mass\": tree['Jet_mass'].array()}))\n",
    "trijet_indices = ak.unzip(ak.argcombinations(jet_p4, 3))\n",
    "trijet_p4 = jet_p4[trijet_indices[0]] + jet_p4[trijet_indices[1]] + jet_p4[trijet_indices[2]]\n",
    "best_trijet_index = ak.argmin(abs(trijet_p4.mass - 172.5), axis=1, keepdims=True)\n",
    "event_mask = ak.num(jet_p4) >= 3\n",
    "result1 = ak.flatten(trijet_p4[best_trijet_index].pt[event_mask])\n",
    "best_trijet_jet_indices = ak.concatenate((trijet_indices[0][best_trijet_index], trijet_indices[1][best_trijet_index], trijet_indices[2][best_trijet_index]), axis=1)\n",
    "jet_btag = tree['Jet_btag'].array()\n",
    "result2 = ak.max(jet_btag[best_trijet_jet_indices], axis=1)[event_mask]"
   ]
  },
  {
   "cell_type": "code",
   "execution_count": 3,
   "id": "portuguese-tension",
   "metadata": {},
   "outputs": [
    {
     "data": {
      "image/png": "[encoded data removed]",
      "text/plain": [
       "<Figure size 432x288 with 1 Axes>"
      ]
     },
     "metadata": {
      "needs_background": "light"
     },
     "output_type": "display_data"
    }
   ],
   "source": [
    "n1, bins1, _ = plt.hist(result1, 100, (15, 40))\n",
    "plt.xlabel(r'Trijet $p_\\mathrm{T}$ [GeV]')\n",
    "plt.ylabel('Events')\n",
    "plt.show()"
   ]
  },
  {
   "cell_type": "code",
   "execution_count": 4,
   "id": "deadly-climate",
   "metadata": {},
   "outputs": [
    {
     "data": {
      "image/png": "[encoded data removed]",
      "text/plain": [
       "<Figure size 432x288 with 1 Axes>"
      ]
     },
     "metadata": {
      "needs_background": "light"
     },
     "output_type": "display_data"
    }
   ],
   "source": [
    "n2, bins2, _ = plt.hist(result2, 100, (0, 1))\n",
    "plt.xlabel(r'Trijet maximum $b$-tagging value')\n",
    "plt.ylabel('Events')\n",
    "plt.show()"
   ]
  },
  {
   "cell_type": "code",
   "execution_count": 5,
   "id": "earned-istanbul",
   "metadata": {},
   "outputs": [
    {
     "data": {
      "text/plain": [
       "array([[15.  , 15.25,  1.  ],\n",
       "       [15.25, 15.5 ,  1.  ],\n",
       "       [15.5 , 15.75,  3.  ],\n",
       "       [15.75, 16.  ,  3.  ],\n",
       "       [16.  , 16.25,  0.  ],\n",
       "       [16.25, 16.5 ,  0.  ],\n",
       "       [16.5 , 16.75,  2.  ],\n",
       "       [16.75, 17.  ,  1.  ],\n",
       "       [17.  , 17.25,  0.  ],\n",
       "       [17.25, 17.5 ,  0.  ],\n",
       "       [17.5 , 17.75,  1.  ],\n",
       "       [17.75, 18.  ,  1.  ],\n",
       "       [18.  , 18.25,  0.  ],\n",
       "       [18.25, 18.5 ,  2.  ],\n",
       "       [18.5 , 18.75,  1.  ],\n",
       "       [18.75, 19.  ,  1.  ],\n",
       "       [19.  , 19.25,  0.  ],\n",
       "       [19.25, 19.5 ,  4.  ],\n",
       "       [19.5 , 19.75,  1.  ],\n",
       "       [19.75, 20.  ,  2.  ],\n",
       "       [20.  , 20.25,  1.  ],\n",
       "       [20.25, 20.5 ,  0.  ],\n",
       "       [20.5 , 20.75,  3.  ],\n",
       "       [20.75, 21.  ,  2.  ],\n",
       "       [21.  , 21.25,  1.  ],\n",
       "       [21.25, 21.5 ,  0.  ],\n",
       "       [21.5 , 21.75,  2.  ],\n",
       "       [21.75, 22.  ,  3.  ],\n",
       "       [22.  , 22.25,  2.  ],\n",
       "       [22.25, 22.5 ,  2.  ],\n",
       "       [22.5 , 22.75,  2.  ],\n",
       "       [22.75, 23.  ,  0.  ],\n",
       "       [23.  , 23.25,  0.  ],\n",
       "       [23.25, 23.5 ,  1.  ],\n",
       "       [23.5 , 23.75,  0.  ],\n",
       "       [23.75, 24.  ,  2.  ],\n",
       "       [24.  , 24.25,  1.  ],\n",
       "       [24.25, 24.5 ,  1.  ],\n",
       "       [24.5 , 24.75,  3.  ],\n",
       "       [24.75, 25.  ,  3.  ],\n",
       "       [25.  , 25.25,  1.  ],\n",
       "       [25.25, 25.5 ,  0.  ],\n",
       "       [25.5 , 25.75,  1.  ],\n",
       "       [25.75, 26.  ,  1.  ],\n",
       "       [26.  , 26.25,  3.  ],\n",
       "       [26.25, 26.5 ,  3.  ],\n",
       "       [26.5 , 26.75,  1.  ],\n",
       "       [26.75, 27.  ,  0.  ],\n",
       "       [27.  , 27.25,  1.  ],\n",
       "       [27.25, 27.5 ,  0.  ],\n",
       "       [27.5 , 27.75,  1.  ],\n",
       "       [27.75, 28.  ,  2.  ],\n",
       "       [28.  , 28.25,  3.  ],\n",
       "       [28.25, 28.5 ,  1.  ],\n",
       "       [28.5 , 28.75,  0.  ],\n",
       "       [28.75, 29.  ,  3.  ],\n",
       "       [29.  , 29.25,  2.  ],\n",
       "       [29.25, 29.5 ,  2.  ],\n",
       "       [29.5 , 29.75,  3.  ],\n",
       "       [29.75, 30.  ,  0.  ],\n",
       "       [30.  , 30.25,  2.  ],\n",
       "       [30.25, 30.5 ,  3.  ],\n",
       "       [30.5 , 30.75,  0.  ],\n",
       "       [30.75, 31.  ,  1.  ],\n",
       "       [31.  , 31.25,  0.  ],\n",
       "       [31.25, 31.5 ,  1.  ],\n",
       "       [31.5 , 31.75,  1.  ],\n",
       "       [31.75, 32.  ,  2.  ],\n",
       "       [32.  , 32.25,  1.  ],\n",
       "       [32.25, 32.5 ,  1.  ],\n",
       "       [32.5 , 32.75,  0.  ],\n",
       "       [32.75, 33.  ,  1.  ],\n",
       "       [33.  , 33.25,  0.  ],\n",
       "       [33.25, 33.5 ,  0.  ],\n",
       "       [33.5 , 33.75,  2.  ],\n",
       "       [33.75, 34.  ,  3.  ],\n",
       "       [34.  , 34.25,  2.  ],\n",
       "       [34.25, 34.5 ,  1.  ],\n",
       "       [34.5 , 34.75,  1.  ],\n",
       "       [34.75, 35.  ,  2.  ],\n",
       "       [35.  , 35.25,  2.  ],\n",
       "       [35.25, 35.5 ,  0.  ],\n",
       "       [35.5 , 35.75,  2.  ],\n",
       "       [35.75, 36.  ,  1.  ],\n",
       "       [36.  , 36.25,  0.  ],\n",
       "       [36.25, 36.5 ,  2.  ],\n",
       "       [36.5 , 36.75,  1.  ],\n",
       "       [36.75, 37.  ,  1.  ],\n",
       "       [37.  , 37.25,  1.  ],\n",
       "       [37.25, 37.5 ,  0.  ],\n",
       "       [37.5 , 37.75,  2.  ],\n",
       "       [37.75, 38.  ,  0.  ],\n",
       "       [38.  , 38.25,  1.  ],\n",
       "       [38.25, 38.5 ,  1.  ],\n",
       "       [38.5 , 38.75,  1.  ],\n",
       "       [38.75, 39.  ,  0.  ],\n",
       "       [39.  , 39.25,  2.  ],\n",
       "       [39.25, 39.5 ,  1.  ],\n",
       "       [39.5 , 39.75,  0.  ],\n",
       "       [39.75, 40.  ,  2.  ]])"
      ]
     },
     "execution_count": 5,
     "metadata": {},
     "output_type": "execute_result"
    }
   ],
   "source": [
    "np.stack((bins1[:-1], bins1[1:], n1), axis=1)"
   ]
  },
  {
   "cell_type": "code",
   "execution_count": 6,
   "id": "naval-kinase",
   "metadata": {},
   "outputs": [
    {
     "data": {
      "text/plain": [
       "array([[0.00000000e+00, 9.99999978e-03, 0.00000000e+00],\n",
       "       [9.99999978e-03, 1.99999996e-02, 2.00000000e+00],\n",
       "       [1.99999996e-02, 2.99999993e-02, 2.00000000e+00],\n",
       "       [2.99999993e-02, 3.99999991e-02, 1.00000000e+00],\n",
       "       [3.99999991e-02, 5.00000007e-02, 1.00000000e+00],\n",
       "       [5.00000007e-02, 5.99999987e-02, 0.00000000e+00],\n",
       "       [5.99999987e-02, 7.00000003e-02, 1.00000000e+00],\n",
       "       [7.00000003e-02, 7.99999982e-02, 3.00000000e+00],\n",
       "       [7.99999982e-02, 9.00000036e-02, 5.00000000e+00],\n",
       "       [9.00000036e-02, 1.00000001e-01, 1.00000000e+00],\n",
       "       [1.00000001e-01, 1.09999999e-01, 1.00000000e+00],\n",
       "       [1.09999999e-01, 1.19999997e-01, 4.00000000e+00],\n",
       "       [1.19999997e-01, 1.29999995e-01, 2.00000000e+00],\n",
       "       [1.29999995e-01, 1.40000001e-01, 1.00000000e+00],\n",
       "       [1.40000001e-01, 1.50000006e-01, 2.00000000e+00],\n",
       "       [1.50000006e-01, 1.59999996e-01, 0.00000000e+00],\n",
       "       [1.59999996e-01, 1.70000002e-01, 2.00000000e+00],\n",
       "       [1.70000002e-01, 1.80000007e-01, 1.00000000e+00],\n",
       "       [1.80000007e-01, 1.89999998e-01, 3.00000000e+00],\n",
       "       [1.89999998e-01, 2.00000003e-01, 6.00000000e+00],\n",
       "       [2.00000003e-01, 2.09999993e-01, 4.00000000e+00],\n",
       "       [2.09999993e-01, 2.19999999e-01, 6.00000000e+00],\n",
       "       [2.19999999e-01, 2.30000004e-01, 2.00000000e+00],\n",
       "       [2.30000004e-01, 2.39999995e-01, 5.00000000e+00],\n",
       "       [2.39999995e-01, 2.50000000e-01, 5.00000000e+00],\n",
       "       [2.50000000e-01, 2.59999990e-01, 0.00000000e+00],\n",
       "       [2.59999990e-01, 2.70000011e-01, 2.00000000e+00],\n",
       "       [2.70000011e-01, 2.80000001e-01, 0.00000000e+00],\n",
       "       [2.80000001e-01, 2.89999992e-01, 2.00000000e+00],\n",
       "       [2.89999992e-01, 3.00000012e-01, 5.00000000e+00],\n",
       "       [3.00000012e-01, 3.10000002e-01, 1.00000000e+00],\n",
       "       [3.10000002e-01, 3.19999993e-01, 4.00000000e+00],\n",
       "       [3.19999993e-01, 3.30000013e-01, 1.00000000e+00],\n",
       "       [3.30000013e-01, 3.40000004e-01, 0.00000000e+00],\n",
       "       [3.40000004e-01, 3.49999994e-01, 1.00000000e+00],\n",
       "       [3.49999994e-01, 3.60000014e-01, 0.00000000e+00],\n",
       "       [3.60000014e-01, 3.70000005e-01, 3.00000000e+00],\n",
       "       [3.70000005e-01, 3.79999995e-01, 2.00000000e+00],\n",
       "       [3.79999995e-01, 3.89999986e-01, 0.00000000e+00],\n",
       "       [3.89999986e-01, 4.00000006e-01, 4.00000000e+00],\n",
       "       [4.00000006e-01, 4.09999996e-01, 0.00000000e+00],\n",
       "       [4.09999996e-01, 4.19999987e-01, 1.00000000e+00],\n",
       "       [4.19999987e-01, 4.30000007e-01, 2.00000000e+00],\n",
       "       [4.30000007e-01, 4.39999998e-01, 0.00000000e+00],\n",
       "       [4.39999998e-01, 4.49999988e-01, 1.00000000e+00],\n",
       "       [4.49999988e-01, 4.60000008e-01, 3.00000000e+00],\n",
       "       [4.60000008e-01, 4.69999999e-01, 1.00000000e+00],\n",
       "       [4.69999999e-01, 4.79999989e-01, 0.00000000e+00],\n",
       "       [4.79999989e-01, 4.90000010e-01, 0.00000000e+00],\n",
       "       [4.90000010e-01, 5.00000000e-01, 1.00000000e+00],\n",
       "       [5.00000000e-01, 5.09999990e-01, 2.00000000e+00],\n",
       "       [5.09999990e-01, 5.19999981e-01, 2.00000000e+00],\n",
       "       [5.19999981e-01, 5.29999971e-01, 0.00000000e+00],\n",
       "       [5.29999971e-01, 5.40000021e-01, 0.00000000e+00],\n",
       "       [5.40000021e-01, 5.50000012e-01, 1.00000000e+00],\n",
       "       [5.50000012e-01, 5.60000002e-01, 4.00000000e+00],\n",
       "       [5.60000002e-01, 5.69999993e-01, 2.00000000e+00],\n",
       "       [5.69999993e-01, 5.79999983e-01, 0.00000000e+00],\n",
       "       [5.79999983e-01, 5.89999974e-01, 2.00000000e+00],\n",
       "       [5.89999974e-01, 6.00000024e-01, 1.00000000e+00],\n",
       "       [6.00000024e-01, 6.10000014e-01, 1.00000000e+00],\n",
       "       [6.10000014e-01, 6.20000005e-01, 0.00000000e+00],\n",
       "       [6.20000005e-01, 6.29999995e-01, 1.00000000e+00],\n",
       "       [6.29999995e-01, 6.39999986e-01, 2.00000000e+00],\n",
       "       [6.39999986e-01, 6.49999976e-01, 2.00000000e+00],\n",
       "       [6.49999976e-01, 6.60000026e-01, 0.00000000e+00],\n",
       "       [6.60000026e-01, 6.70000017e-01, 2.00000000e+00],\n",
       "       [6.70000017e-01, 6.80000007e-01, 4.00000000e+00],\n",
       "       [6.80000007e-01, 6.89999998e-01, 1.00000000e+00],\n",
       "       [6.89999998e-01, 6.99999988e-01, 1.00000000e+00],\n",
       "       [6.99999988e-01, 7.09999979e-01, 0.00000000e+00],\n",
       "       [7.09999979e-01, 7.20000029e-01, 1.00000000e+00],\n",
       "       [7.20000029e-01, 7.30000019e-01, 0.00000000e+00],\n",
       "       [7.30000019e-01, 7.40000010e-01, 2.00000000e+00],\n",
       "       [7.40000010e-01, 7.50000000e-01, 0.00000000e+00],\n",
       "       [7.50000000e-01, 7.59999990e-01, 1.00000000e+00],\n",
       "       [7.59999990e-01, 7.69999981e-01, 1.00000000e+00],\n",
       "       [7.69999981e-01, 7.79999971e-01, 0.00000000e+00],\n",
       "       [7.79999971e-01, 7.90000021e-01, 2.00000000e+00],\n",
       "       [7.90000021e-01, 8.00000012e-01, 1.00000000e+00],\n",
       "       [8.00000012e-01, 8.10000002e-01, 1.00000000e+00],\n",
       "       [8.10000002e-01, 8.19999993e-01, 2.00000000e+00],\n",
       "       [8.19999993e-01, 8.29999983e-01, 0.00000000e+00],\n",
       "       [8.29999983e-01, 8.39999974e-01, 2.00000000e+00],\n",
       "       [8.39999974e-01, 8.50000024e-01, 0.00000000e+00],\n",
       "       [8.50000024e-01, 8.60000014e-01, 3.00000000e+00],\n",
       "       [8.60000014e-01, 8.70000005e-01, 2.00000000e+00],\n",
       "       [8.70000005e-01, 8.79999995e-01, 1.00000000e+00],\n",
       "       [8.79999995e-01, 8.89999986e-01, 3.00000000e+00],\n",
       "       [8.89999986e-01, 8.99999976e-01, 7.00000000e+00],\n",
       "       [8.99999976e-01, 9.10000026e-01, 5.00000000e+00],\n",
       "       [9.10000026e-01, 9.20000017e-01, 2.00000000e+00],\n",
       "       [9.20000017e-01, 9.30000007e-01, 6.00000000e+00],\n",
       "       [9.30000007e-01, 9.39999998e-01, 8.00000000e+00],\n",
       "       [9.39999998e-01, 9.49999988e-01, 4.00000000e+00],\n",
       "       [9.49999988e-01, 9.59999979e-01, 1.20000000e+01],\n",
       "       [9.59999979e-01, 9.70000029e-01, 8.00000000e+00],\n",
       "       [9.70000029e-01, 9.80000019e-01, 1.20000000e+01],\n",
       "       [9.80000019e-01, 9.90000010e-01, 1.00000000e+01],\n",
       "       [9.90000010e-01, 1.00000000e+00, 3.30000000e+01]])"
      ]
     },
     "execution_count": 6,
     "metadata": {},
     "output_type": "execute_result"
    }
   ],
   "source": [
    "np.stack((bins2[:-1], bins2[1:], n2), axis=1)"
   ]
  }
 ],
 "metadata": {
  "kernelspec": {
   "display_name": "Python 3",
   "language": "python",
   "name": "python3"
  },
  "language_info": {
   "codemirror_mode": {
    "name": "ipython",
    "version": 3
   },
   "file_extension": ".py",
   "mimetype": "text/x-python",
   "name": "python",
   "nbconvert_exporter": "python",
   "pygments_lexer": "ipython3",
   "version": "3.9.1"
  }
 },
 "nbformat": 4,
 "nbformat_minor": 5
}
