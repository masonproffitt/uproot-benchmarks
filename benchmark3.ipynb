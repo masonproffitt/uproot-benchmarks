{
 "cells": [
  {
   "cell_type": "code",
   "execution_count": 1,
   "id": "hungry-roulette",
   "metadata": {},
   "outputs": [],
   "source": [
    "import numpy as np\n",
    "import matplotlib.pyplot as plt\n",
    "import uproot3 as uproot"
   ]
  },
  {
   "cell_type": "code",
   "execution_count": 2,
   "id": "resistant-arabic",
   "metadata": {},
   "outputs": [],
   "source": [
    "tree = uproot.open('data/Run2012B_SingleMu_1000.root')['Events']\n",
    "jet_pt = tree['Jet_pt'].array()\n",
    "jet_eta = tree['Jet_eta'].array()\n",
    "result = jet_pt[abs(jet_eta) < 1].flatten()"
   ]
  },
  {
   "cell_type": "code",
   "execution_count": 3,
   "id": "portuguese-tension",
   "metadata": {},
   "outputs": [
    {
     "data": {
      "image/png": "[encoded data removed]",
      "text/plain": [
       "<Figure size 432x288 with 1 Axes>"
      ]
     },
     "metadata": {
      "needs_background": "light"
     },
     "output_type": "display_data"
    }
   ],
   "source": [
    "n, bins, _ = plt.hist(result, 100, (15, 60))\n",
    "plt.xlabel(r'$p_\\mathrm{T}$ [GeV]')\n",
    "plt.ylabel('Jets')\n",
    "plt.show()"
   ]
  },
  {
   "cell_type": "code",
   "execution_count": 4,
   "id": "earned-istanbul",
   "metadata": {},
   "outputs": [
    {
     "data": {
      "text/plain": [
       "array([[15.        , 15.44999981, 24.        ],\n",
       "       [15.44999981, 15.89999962, 19.        ],\n",
       "       [15.89999962, 16.35000038, 20.        ],\n",
       "       [16.35000038, 16.79999924, 20.        ],\n",
       "       [16.79999924, 17.25      , 14.        ],\n",
       "       [17.25      , 17.70000076, 19.        ],\n",
       "       [17.70000076, 18.14999962,  6.        ],\n",
       "       [18.14999962, 18.60000038, 19.        ],\n",
       "       [18.60000038, 19.04999924, 11.        ],\n",
       "       [19.04999924, 19.5       , 17.        ],\n",
       "       [19.5       , 19.95000076, 11.        ],\n",
       "       [19.95000076, 20.39999962, 11.        ],\n",
       "       [20.39999962, 20.85000038,  9.        ],\n",
       "       [20.85000038, 21.29999924,  5.        ],\n",
       "       [21.29999924, 21.75      , 10.        ],\n",
       "       [21.75      , 22.20000076, 11.        ],\n",
       "       [22.20000076, 22.64999962, 12.        ],\n",
       "       [22.64999962, 23.10000038,  4.        ],\n",
       "       [23.10000038, 23.54999924,  7.        ],\n",
       "       [23.54999924, 24.        ,  6.        ],\n",
       "       [24.        , 24.45000076,  6.        ],\n",
       "       [24.45000076, 24.89999962,  9.        ],\n",
       "       [24.89999962, 25.35000038,  5.        ],\n",
       "       [25.35000038, 25.79999924,  8.        ],\n",
       "       [25.79999924, 26.25      ,  3.        ],\n",
       "       [26.25      , 26.70000076,  9.        ],\n",
       "       [26.70000076, 27.14999962,  4.        ],\n",
       "       [27.14999962, 27.60000038, 10.        ],\n",
       "       [27.60000038, 28.04999924,  5.        ],\n",
       "       [28.04999924, 28.5       ,  6.        ],\n",
       "       [28.5       , 28.95000076,  6.        ],\n",
       "       [28.95000076, 29.39999962,  5.        ],\n",
       "       [29.39999962, 29.85000038,  4.        ],\n",
       "       [29.85000038, 30.29999924,  9.        ],\n",
       "       [30.29999924, 30.75      ,  5.        ],\n",
       "       [30.75      , 31.20000076,  2.        ],\n",
       "       [31.20000076, 31.64999962, 11.        ],\n",
       "       [31.64999962, 32.09999847,  8.        ],\n",
       "       [32.09999847, 32.54999924,  2.        ],\n",
       "       [32.54999924, 33.        ,  5.        ],\n",
       "       [33.        , 33.45000076,  8.        ],\n",
       "       [33.45000076, 33.90000153, 11.        ],\n",
       "       [33.90000153, 34.34999847,  2.        ],\n",
       "       [34.34999847, 34.79999924,  1.        ],\n",
       "       [34.79999924, 35.25      ,  2.        ],\n",
       "       [35.25      , 35.70000076,  2.        ],\n",
       "       [35.70000076, 36.15000153,  0.        ],\n",
       "       [36.15000153, 36.59999847,  3.        ],\n",
       "       [36.59999847, 37.04999924,  6.        ],\n",
       "       [37.04999924, 37.5       ,  4.        ],\n",
       "       [37.5       , 37.95000076,  2.        ],\n",
       "       [37.95000076, 38.40000153,  2.        ],\n",
       "       [38.40000153, 38.84999847,  6.        ],\n",
       "       [38.84999847, 39.29999924,  2.        ],\n",
       "       [39.29999924, 39.75      ,  9.        ],\n",
       "       [39.75      , 40.20000076,  4.        ],\n",
       "       [40.20000076, 40.65000153,  4.        ],\n",
       "       [40.65000153, 41.09999847,  8.        ],\n",
       "       [41.09999847, 41.54999924,  4.        ],\n",
       "       [41.54999924, 42.        ,  1.        ],\n",
       "       [42.        , 42.45000076,  3.        ],\n",
       "       [42.45000076, 42.90000153,  3.        ],\n",
       "       [42.90000153, 43.34999847,  5.        ],\n",
       "       [43.34999847, 43.79999924,  0.        ],\n",
       "       [43.79999924, 44.25      ,  5.        ],\n",
       "       [44.25      , 44.70000076,  2.        ],\n",
       "       [44.70000076, 45.15000153,  2.        ],\n",
       "       [45.15000153, 45.59999847,  2.        ],\n",
       "       [45.59999847, 46.04999924,  3.        ],\n",
       "       [46.04999924, 46.5       ,  3.        ],\n",
       "       [46.5       , 46.95000076,  1.        ],\n",
       "       [46.95000076, 47.40000153,  5.        ],\n",
       "       [47.40000153, 47.84999847,  1.        ],\n",
       "       [47.84999847, 48.29999924,  1.        ],\n",
       "       [48.29999924, 48.75      ,  1.        ],\n",
       "       [48.75      , 49.20000076,  5.        ],\n",
       "       [49.20000076, 49.65000153,  0.        ],\n",
       "       [49.65000153, 50.09999847,  2.        ],\n",
       "       [50.09999847, 50.54999924,  3.        ],\n",
       "       [50.54999924, 51.        ,  3.        ],\n",
       "       [51.        , 51.45000076,  3.        ],\n",
       "       [51.45000076, 51.90000153,  6.        ],\n",
       "       [51.90000153, 52.34999847,  3.        ],\n",
       "       [52.34999847, 52.79999924,  3.        ],\n",
       "       [52.79999924, 53.25      ,  2.        ],\n",
       "       [53.25      , 53.70000076,  2.        ],\n",
       "       [53.70000076, 54.15000153,  1.        ],\n",
       "       [54.15000153, 54.59999847,  3.        ],\n",
       "       [54.59999847, 55.04999924,  2.        ],\n",
       "       [55.04999924, 55.5       ,  1.        ],\n",
       "       [55.5       , 55.95000076,  2.        ],\n",
       "       [55.95000076, 56.40000153,  3.        ],\n",
       "       [56.40000153, 56.84999847,  2.        ],\n",
       "       [56.84999847, 57.29999924,  5.        ],\n",
       "       [57.29999924, 57.75      ,  1.        ],\n",
       "       [57.75      , 58.20000076,  2.        ],\n",
       "       [58.20000076, 58.65000153,  1.        ],\n",
       "       [58.65000153, 59.09999847,  3.        ],\n",
       "       [59.09999847, 59.54999924,  1.        ],\n",
       "       [59.54999924, 60.        ,  1.        ]])"
      ]
     },
     "execution_count": 4,
     "metadata": {},
     "output_type": "execute_result"
    }
   ],
   "source": [
    "np.stack((bins[:-1], bins[1:], n), axis=1)"
   ]
  }
 ],
 "metadata": {
  "kernelspec": {
   "display_name": "Python 3",
   "language": "python",
   "name": "python3"
  },
  "language_info": {
   "codemirror_mode": {
    "name": "ipython",
    "version": 3
   },
   "file_extension": ".py",
   "mimetype": "text/x-python",
   "name": "python",
   "nbconvert_exporter": "python",
   "pygments_lexer": "ipython3",
   "version": "3.8.3"
  }
 },
 "nbformat": 4,
 "nbformat_minor": 5
}
