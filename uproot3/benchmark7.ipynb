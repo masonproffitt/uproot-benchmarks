{
 "cells": [
  {
   "cell_type": "code",
   "execution_count": 1,
   "id": "hungry-roulette",
   "metadata": {},
   "outputs": [],
   "source": [
    "import numpy as np\n",
    "import matplotlib.pyplot as plt\n",
    "import awkward0 as awkward\n",
    "import uproot3_methods as uproot_methods\n",
    "import uproot3 as uproot"
   ]
  },
  {
   "cell_type": "code",
   "execution_count": 2,
   "id": "resistant-arabic",
   "metadata": {},
   "outputs": [],
   "source": [
    "tree = uproot.open('../data/Run2012B_SingleMu_1000.root')['Events']\n",
    "jet_p4 = uproot_methods.TLorentzVectorArray.from_ptetaphim(tree['Jet_pt'].array(), tree['Jet_eta'].array(), tree['Jet_phi'].array(), tree['Jet_mass'].array())\n",
    "good_jet_p4 = jet_p4[jet_p4.pt > 30]\n",
    "electron_p4 = uproot_methods.TLorentzVectorArray.from_ptetaphim(tree['Electron_pt'].array(), tree['Electron_eta'].array(), tree['Electron_phi'].array(), tree['Electron_mass'].array())\n",
    "muon_p4 = uproot_methods.TLorentzVectorArray.from_ptetaphim(tree['Muon_pt'].array(), tree['Muon_eta'].array(), tree['Muon_phi'].array(), tree['Muon_mass'].array())\n",
    "lepton_p4 = awkward.concatenate((electron_p4, muon_p4), axis=1)\n",
    "good_lepton_p4 = lepton_p4[lepton_p4.pt > 10]\n",
    "jet_lepton_indices = good_jet_p4.argcross(good_lepton_p4).unzip()\n",
    "jet_lepton_removal_mask = good_jet_p4[jet_lepton_indices[0]].delta_r(good_lepton_p4[jet_lepton_indices[1]]) < 0.4\n",
    "jet_removal_indices = jet_lepton_indices[0][jet_lepton_removal_mask]\n",
    "jet_mask = good_jet_p4.pt.ones_like().astype(bool)\n",
    "jet_mask[jet_removal_indices] = False\n",
    "result = good_jet_p4[jet_mask].pt.sum()"
   ]
  },
  {
   "cell_type": "code",
   "execution_count": 3,
   "id": "portuguese-tension",
   "metadata": {},
   "outputs": [
    {
     "data": {
      "image/png": "[encoded data removed]",
      "text/plain": [
       "<Figure size 432x288 with 1 Axes>"
      ]
     },
     "metadata": {
      "needs_background": "light"
     },
     "output_type": "display_data"
    }
   ],
   "source": [
    "n, bins, _ = plt.hist(result, 100, (15, 200))\n",
    "plt.xlabel(r'Scalar sum of jet $p_\\mathrm{T}$ [GeV]')\n",
    "plt.ylabel('Events')\n",
    "plt.show()"
   ]
  },
  {
   "cell_type": "code",
   "execution_count": 4,
   "id": "unlimited-carpet",
   "metadata": {},
   "outputs": [
    {
     "data": {
      "text/plain": [
       "array([[ 15.        ,  16.85000038,   0.        ],\n",
       "       [ 16.85000038,  18.70000076,   0.        ],\n",
       "       [ 18.70000076,  20.54999924,   0.        ],\n",
       "       [ 20.54999924,  22.39999962,   0.        ],\n",
       "       [ 22.39999962,  24.25      ,   0.        ],\n",
       "       [ 24.25      ,  26.10000038,   0.        ],\n",
       "       [ 26.10000038,  27.95000076,   0.        ],\n",
       "       [ 27.95000076,  29.79999924,   0.        ],\n",
       "       [ 29.79999924,  31.64999962,  20.        ],\n",
       "       [ 31.64999962,  33.5       ,  21.        ],\n",
       "       [ 33.5       ,  35.34999847,  21.        ],\n",
       "       [ 35.34999847,  37.20000076,  15.        ],\n",
       "       [ 37.20000076,  39.04999924,  11.        ],\n",
       "       [ 39.04999924,  40.90000153,  13.        ],\n",
       "       [ 40.90000153,  42.75      ,  10.        ],\n",
       "       [ 42.75      ,  44.59999847,  15.        ],\n",
       "       [ 44.59999847,  46.45000076,   7.        ],\n",
       "       [ 46.45000076,  48.29999924,  12.        ],\n",
       "       [ 48.29999924,  50.15000153,  12.        ],\n",
       "       [ 50.15000153,  52.        ,  10.        ],\n",
       "       [ 52.        ,  53.84999847,  11.        ],\n",
       "       [ 53.84999847,  55.70000076,   7.        ],\n",
       "       [ 55.70000076,  57.54999924,   9.        ],\n",
       "       [ 57.54999924,  59.40000153,   2.        ],\n",
       "       [ 59.40000153,  61.25      ,   6.        ],\n",
       "       [ 61.25      ,  63.09999847,   3.        ],\n",
       "       [ 63.09999847,  64.94999695,   7.        ],\n",
       "       [ 64.94999695,  66.80000305,   3.        ],\n",
       "       [ 66.80000305,  68.65000153,   6.        ],\n",
       "       [ 68.65000153,  70.5       ,   4.        ],\n",
       "       [ 70.5       ,  72.34999847,   5.        ],\n",
       "       [ 72.34999847,  74.19999695,   2.        ],\n",
       "       [ 74.19999695,  76.05000305,   1.        ],\n",
       "       [ 76.05000305,  77.90000153,   4.        ],\n",
       "       [ 77.90000153,  79.75      ,   4.        ],\n",
       "       [ 79.75      ,  81.59999847,   1.        ],\n",
       "       [ 81.59999847,  83.44999695,   5.        ],\n",
       "       [ 83.44999695,  85.30000305,   4.        ],\n",
       "       [ 85.30000305,  87.15000153,   1.        ],\n",
       "       [ 87.15000153,  89.        ,   4.        ],\n",
       "       [ 89.        ,  90.84999847,   3.        ],\n",
       "       [ 90.84999847,  92.69999695,   7.        ],\n",
       "       [ 92.69999695,  94.55000305,   6.        ],\n",
       "       [ 94.55000305,  96.40000153,   4.        ],\n",
       "       [ 96.40000153,  98.25      ,   2.        ],\n",
       "       [ 98.25      , 100.09999847,   2.        ],\n",
       "       [100.09999847, 101.94999695,   1.        ],\n",
       "       [101.94999695, 103.80000305,   3.        ],\n",
       "       [103.80000305, 105.65000153,   2.        ],\n",
       "       [105.65000153, 107.5       ,   1.        ],\n",
       "       [107.5       , 109.34999847,   2.        ],\n",
       "       [109.34999847, 111.19999695,   3.        ],\n",
       "       [111.19999695, 113.05000305,   2.        ],\n",
       "       [113.05000305, 114.90000153,   1.        ],\n",
       "       [114.90000153, 116.75      ,   1.        ],\n",
       "       [116.75      , 118.59999847,   1.        ],\n",
       "       [118.59999847, 120.44999695,   1.        ],\n",
       "       [120.44999695, 122.30000305,   1.        ],\n",
       "       [122.30000305, 124.15000153,   0.        ],\n",
       "       [124.15000153, 126.        ,   0.        ],\n",
       "       [126.        , 127.84999847,   0.        ],\n",
       "       [127.84999847, 129.69999695,   2.        ],\n",
       "       [129.69999695, 131.55000305,   3.        ],\n",
       "       [131.55000305, 133.3999939 ,   1.        ],\n",
       "       [133.3999939 , 135.25      ,   1.        ],\n",
       "       [135.25      , 137.1000061 ,   2.        ],\n",
       "       [137.1000061 , 138.94999695,   4.        ],\n",
       "       [138.94999695, 140.80000305,   3.        ],\n",
       "       [140.80000305, 142.6499939 ,   0.        ],\n",
       "       [142.6499939 , 144.5       ,   1.        ],\n",
       "       [144.5       , 146.3500061 ,   1.        ],\n",
       "       [146.3500061 , 148.19999695,   0.        ],\n",
       "       [148.19999695, 150.05000305,   0.        ],\n",
       "       [150.05000305, 151.8999939 ,   2.        ],\n",
       "       [151.8999939 , 153.75      ,   0.        ],\n",
       "       [153.75      , 155.6000061 ,   1.        ],\n",
       "       [155.6000061 , 157.44999695,   1.        ],\n",
       "       [157.44999695, 159.30000305,   1.        ],\n",
       "       [159.30000305, 161.1499939 ,   1.        ],\n",
       "       [161.1499939 , 163.        ,   0.        ],\n",
       "       [163.        , 164.8500061 ,   0.        ],\n",
       "       [164.8500061 , 166.69999695,   1.        ],\n",
       "       [166.69999695, 168.55000305,   0.        ],\n",
       "       [168.55000305, 170.3999939 ,   0.        ],\n",
       "       [170.3999939 , 172.25      ,   0.        ],\n",
       "       [172.25      , 174.1000061 ,   1.        ],\n",
       "       [174.1000061 , 175.94999695,   1.        ],\n",
       "       [175.94999695, 177.80000305,   0.        ],\n",
       "       [177.80000305, 179.6499939 ,   0.        ],\n",
       "       [179.6499939 , 181.5       ,   0.        ],\n",
       "       [181.5       , 183.3500061 ,   1.        ],\n",
       "       [183.3500061 , 185.19999695,   0.        ],\n",
       "       [185.19999695, 187.05000305,   0.        ],\n",
       "       [187.05000305, 188.8999939 ,   0.        ],\n",
       "       [188.8999939 , 190.75      ,   1.        ],\n",
       "       [190.75      , 192.6000061 ,   0.        ],\n",
       "       [192.6000061 , 194.44999695,   0.        ],\n",
       "       [194.44999695, 196.30000305,   0.        ],\n",
       "       [196.30000305, 198.1499939 ,   0.        ],\n",
       "       [198.1499939 , 200.        ,   0.        ]])"
      ]
     },
     "execution_count": 4,
     "metadata": {},
     "output_type": "execute_result"
    }
   ],
   "source": [
    "np.stack((bins[:-1], bins[1:], n), axis=1)"
   ]
  }
 ],
 "metadata": {
  "kernelspec": {
   "display_name": "Python 3",
   "language": "python",
   "name": "python3"
  },
  "language_info": {
   "codemirror_mode": {
    "name": "ipython",
    "version": 3
   },
   "file_extension": ".py",
   "mimetype": "text/x-python",
   "name": "python",
   "nbconvert_exporter": "python",
   "pygments_lexer": "ipython3",
   "version": "3.9.1"
  }
 },
 "nbformat": 4,
 "nbformat_minor": 5
}
